{
  "nbformat": 4,
  "nbformat_minor": 0,
  "metadata": {
    "colab": {
      "provenance": [],
      "authorship_tag": "ABX9TyO20fF9SUtuybSUO5DoxBDS",
      "include_colab_link": true
    },
    "kernelspec": {
      "name": "python3",
      "display_name": "Python 3"
    },
    "language_info": {
      "name": "python"
    }
  },
  "cells": [
    {
      "cell_type": "markdown",
      "metadata": {
        "id": "view-in-github",
        "colab_type": "text"
      },
      "source": [
        "<a href=\"https://colab.research.google.com/github/shjiinn/E-Learning/blob/master/%EA%B8%B0%EA%B3%84%ED%95%99%EC%8A%B5%EC%9D%98_%EC%9E%91%EC%97%85%ED%9D%90%EB%A6%84%EB%8F%84.ipynb\" target=\"_parent\"><img src=\"https://colab.research.google.com/assets/colab-badge.svg\" alt=\"Open In Colab\"/></a>"
      ]
    },
    {
      "cell_type": "markdown",
      "source": [
        "### 기계학습의 작업흐름"
      ],
      "metadata": {
        "id": "L2OLU2CKVWoK"
      }
    },
    {
      "cell_type": "markdown",
      "source": [
        "1. 작업흐름(workflow)\n",
        "\n",
        "- 자료 준비 단계\n",
        "  - 자료 준비 단계 : 수집과 전처리\n",
        "  - feature, label 구분\n",
        "  - 훈련, 검증 자료, 성능 평가 자료\n",
        "\n",
        "- 학습 단계 - 검증단계\n",
        "  - 모델 훈련과 완성\n",
        "  - 모델 예측\n",
        "  - 검증자료는 검증단계에서 사용\n",
        "  - 검증 단계 : 하이퍼 파라미터 조정 (파인튜닝)\n",
        "- 평가 단계\n",
        "  - 최종 성능평가(예측)\n",
        "- 실전 배치\n",
        "  - 예측\n",
        "  - 새로운 자료\n",
        "  - 레이블\n",
        "  "
      ],
      "metadata": {
        "id": "90BxWQixVWsE"
      }
    },
    {
      "cell_type": "markdown",
      "source": [
        "2. 학습자료 전처리\n",
        "- 셔플링(shuffling)\n",
        "  - label이 [1,1,1,1,1,0,0,0,0,0] 이렇게 되어있으면 정확한 훈련이 안되므로 shuffling 필요\n",
        "- 피쳐 스케일링\n",
        "  - 수 범위의 차이를 점검\n",
        "  - 정규화(nomalization)\n",
        "    - min-max scaling\n",
        "    - 자료 범위 : 0~1사이\n",
        "  - 표준화\n",
        "    - 특이값에 영향을 덜 바음\n",
        "    - 자료 범위 : 평균값 0, 표준편차 1\n",
        "- 자료 분리\n",
        "  - 훈련자료 vs 테스트 자료\n",
        "  - 8:2 or 7:3\n",
        "- 편향 처리 방식\n",
        "  - 편향을 포함한 자료구조\n",
        "  - 편향을 포함하지 않은 자료구조\n",
        "\n",
        "3. 학습 단계\n",
        "- 이진분류 퍼셉트론 예측\n",
        "  - 예측함수 구현\n",
        "    - 함수 이름 : perceptron_predic(X,w)\n",
        "    - 입력 인자 : X: 예측할 입력자료(검증자료, 테스트자료)\n",
        "                  w: 가중치\n",
        "    - 함수 반환 값\n",
        "      - yhat\n",
        "          형상 : (m samples, 1)\n",
        "          형식 : 0,1"
      ],
      "metadata": {
        "id": "8nMeIM96VWvj"
      }
    },
    {
      "cell_type": "code",
      "source": [
        "def perceptron_predict(X,w):\n",
        "  z=np.dot(X,w)\n",
        "  yhat=np.where(z>0.,1,0)\n",
        "  return yhat"
      ],
      "metadata": {
        "id": "niXwNaYlatj9"
      },
      "execution_count": null,
      "outputs": []
    },
    {
      "cell_type": "markdown",
      "source": [
        "4. 평가 단계\n",
        "- 이진분류 퍼셉트론 평가 방법\n",
        "  - y : 클래스 레이블(주어진 값, 정답)\n",
        "  - yhat : 예측값\n",
        "  - y와 yhat을 비교\n",
        "  \n"
      ],
      "metadata": {
        "id": "1cu4fMKQVWy2"
      }
    },
    {
      "cell_type": "code",
      "source": [],
      "metadata": {
        "id": "fH0GbshGbRck"
      },
      "execution_count": null,
      "outputs": []
    },
    {
      "cell_type": "markdown",
      "source": [],
      "metadata": {
        "id": "7P9gbGk3VW3C"
      }
    }
  ]
}