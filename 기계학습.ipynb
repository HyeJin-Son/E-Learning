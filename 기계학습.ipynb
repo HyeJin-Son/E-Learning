{
  "nbformat": 4,
  "nbformat_minor": 0,
  "metadata": {
    "colab": {
      "provenance": [],
      "authorship_tag": "ABX9TyOUwhbdTIvgC1+M/6+Yhokj",
      "include_colab_link": true
    },
    "kernelspec": {
      "name": "python3",
      "display_name": "Python 3"
    },
    "language_info": {
      "name": "python"
    }
  },
  "cells": [
    {
      "cell_type": "markdown",
      "metadata": {
        "id": "view-in-github",
        "colab_type": "text"
      },
      "source": [
        "<a href=\"https://colab.research.google.com/github/shjiinn/E-Learning/blob/master/%EA%B8%B0%EA%B3%84%ED%95%99%EC%8A%B5.ipynb\" target=\"_parent\"><img src=\"https://colab.research.google.com/assets/colab-badge.svg\" alt=\"Open In Colab\"/></a>"
      ]
    },
    {
      "cell_type": "markdown",
      "source": [
        "### 기계학습의 개념/정의/종류\n",
        "\n",
        "1. 기계학습의 개념 : \n",
        "- 스스로 학습, 프로그램 수정 불필요, 자료 축적 필요(컴퓨터가 스스로 배움)\n",
        "2. 기계학습의 정의 \n",
        "- 컴퓨터가 배울 수 있는 능력, 즉 프로그램으로 정의하지 않아도 컴퓨터가 스스로 학습하여 실행할 수 있는 능력\n",
        "3. 기계학습의 종류\n",
        "- 지도 학습 : 자료로 학습하고 예측, 분류와 회귀로 나뉨\n",
        "ex)사물인식, 날씨예측\n",
        "  - 분류\n",
        "  - 회귀 : 공부 시간에 따른 퀴즈 점수 예측, 사진을 보고 몸무게 예측\n",
        "- 비지도 학습 : 데이터에서 패턴추정(신문기사 분석, 고양이 구별)\n",
        "- 강화 학습 : 행동에 대한 보상을 극대화(바둑, 게임)"
      ],
      "metadata": {
        "id": "vWdpMZlZvF3u"
      }
    },
    {
      "cell_type": "markdown",
      "source": [
        "### 기계학습 개발환경\n",
        "1. 파이썬 장점\n",
        "- 간단하고 배우기 쉬움\n",
        "- 컴파일링 없는 스크립트 언어여서 편함\n",
        "- 풍부한 라이브러리 제공\n",
        "- 딥러닝 프레임워크의 파이썬 API를 제공함\n",
        "2. 파이썬 주의사항\n",
        "- 버전 호환 안됨\n",
        "3. 기계학습용 외부라이브러리\n",
        "- Pandas : 데이터로부터 학습자료를 읽고 쓰고, 전처리함\n",
        "- scipy : 다양한 과학적 계산을 위한 모듈\n",
        "- sckit-learn : 기계학습에 필요한 다양한 알고리즘 제공\n",
        "4. 기계학습 개발 프레임워크\n",
        "- TensorFlow\n",
        "  - 구글이 오픈소스로 개발\n",
        "  - 핵십기술은 C++\n",
        "  - 프론트 앤드는 파이썬으로 작성\n",
        "  - GPU 사용\n",
        "  - 시각화 툴인 TensorBoard 제공(scalar, vector, matrix)\n",
        "- Keras\n",
        "  - 텐서플로를 기반으로 한 프레임워크\n",
        "  - 직관적인 API\n",
        "  - 현재 텐서플로와 통합되어 텐서플로 안에서도 사용가능\n",
        "- PyTorch\n",
        "  - Lua로 개발된 Torch를 파이썬 API로 개발\n",
        "  - 디버깅이 쉬운 직관적인 코드로 구성\n",
        "  - 동적 그래프 : 언제든지 데이터에 따라 모델 조정 가능\n",
        "\n",
        "  5. 기계학습 개발환경\n",
        "  - 쥬피터 노트북\n",
        "  - 기계학습 개발을 위해 사용할 도구\n",
        "    - Python 3.x\n",
        "    - Numpy\n",
        "    - matplotlib\n",
        "    - jupyter Notebook\n",
        "  "
      ],
      "metadata": {
        "id": "YVL9GidXyxJr"
      }
    },
    {
      "cell_type": "markdown",
      "source": [],
      "metadata": {
        "id": "1SR6LiPi1Leq"
      }
    }
  ]
}